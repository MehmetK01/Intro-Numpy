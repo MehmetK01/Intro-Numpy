{
 "cells": [
  {
   "cell_type": "code",
   "execution_count": 2,
   "id": "ef8f1da1-abfc-49b9-8080-36ba965c6247",
   "metadata": {},
   "outputs": [],
   "source": [
    "import numpy as np\n"
   ]
  },
  {
   "cell_type": "markdown",
   "id": "4ccb2b1c-ec37-4bae-b86b-a418277eb339",
   "metadata": {},
   "source": [
    "this is my first change I will push onto my private branch on GitHub! I don't know if it will work? 🤷‍♂️\n"
   ]
  },
  {
   "cell_type": "code",
   "execution_count": 4,
   "id": "9ca5eebc-caf5-401b-897e-37b1d3f9b858",
   "metadata": {},
   "outputs": [
    {
     "name": "stdout",
     "output_type": "stream",
     "text": [
      "[18 15 12]\n"
     ]
    }
   ],
   "source": [
    "#look here is a new Array\n",
    "mehmet = np.array([3, 3, 3])\n",
    "m2 = np.array([6, 5, 4])\n",
    "# array multiplication\n",
    "print(mehmet * m2)\n"
   ]
  },
  {
   "cell_type": "code",
   "execution_count": 4,
   "id": "1c478084",
   "metadata": {},
   "outputs": [
    {
     "name": "stdout",
     "output_type": "stream",
     "text": [
      "[[1 2 4]\n",
      " [7 8 9]]\n"
     ]
    }
   ],
   "source": [
    "a = np.array([1, 2, 3])\n",
    "a\n",
    "b = np.array([[1, 2, 4], [7, 8, 9]]) #list within list etc. more dimensional Arrays. this is a 2-dimensional Array\n",
    "print(b)"
   ]
  },
  {
   "cell_type": "code",
   "execution_count": 6,
   "id": "1e0877e8",
   "metadata": {},
   "outputs": [
    {
     "data": {
      "text/plain": [
       "1"
      ]
     },
     "execution_count": 6,
     "metadata": {},
     "output_type": "execute_result"
    }
   ],
   "source": [
    "#Get dimension of an Array\n",
    "a.ndim #--> 1\n",
    "b.ndim #--> 2"
   ]
  },
  {
   "cell_type": "code",
   "execution_count": 7,
   "id": "9a078064",
   "metadata": {},
   "outputs": [
    {
     "data": {
      "text/plain": [
       "(3,)"
      ]
     },
     "execution_count": 7,
     "metadata": {},
     "output_type": "execute_result"
    }
   ],
   "source": [
    "#Get shape gives back a Vector\n",
    "a.shape\n"
   ]
  },
  {
   "cell_type": "code",
   "execution_count": 8,
   "id": "da538408",
   "metadata": {},
   "outputs": [
    {
     "data": {
      "text/plain": [
       "(2, 3)"
      ]
     },
     "execution_count": 8,
     "metadata": {},
     "output_type": "execute_result"
    }
   ],
   "source": [
    "b.shape\n"
   ]
  },
  {
   "cell_type": "code",
   "execution_count": 9,
   "id": "e2e5d37b",
   "metadata": {},
   "outputs": [
    {
     "data": {
      "text/plain": [
       "dtype('int64')"
      ]
     },
     "execution_count": 9,
     "metadata": {},
     "output_type": "execute_result"
    }
   ],
   "source": [
    "#Get data type\n",
    "a.dtype"
   ]
  },
  {
   "cell_type": "code",
   "execution_count": 10,
   "id": "a94e493f",
   "metadata": {},
   "outputs": [
    {
     "data": {
      "text/plain": [
       "8"
      ]
     },
     "execution_count": 10,
     "metadata": {},
     "output_type": "execute_result"
    }
   ],
   "source": [
    "#Get size of the array (in bytes)\n",
    "a.itemsize\n"
   ]
  },
  {
   "cell_type": "code",
   "execution_count": 12,
   "id": "07fe8382",
   "metadata": {},
   "outputs": [
    {
     "name": "stdout",
     "output_type": "stream",
     "text": [
      "[1 3 9]\n"
     ]
    },
    {
     "data": {
      "text/plain": [
       "2"
      ]
     },
     "execution_count": 12,
     "metadata": {},
     "output_type": "execute_result"
    }
   ],
   "source": [
    "#if you work with small numbers you can save memory by defining the type of the array when initializing it (line 4)\n",
    "m = np.array([1, 3, 9], dtype = \"int16\")\n",
    "print(m)\n",
    "m.itemsize # 2 bytes because 8 bits= 1 byte and we have 16 bits\n"
   ]
  },
  {
   "cell_type": "code",
   "execution_count": 14,
   "id": "70a9a65f",
   "metadata": {},
   "outputs": [
    {
     "name": "stdout",
     "output_type": "stream",
     "text": [
      "[[1 3 4 6 7]\n",
      " [2 5 7 9 8]]\n"
     ]
    },
    {
     "data": {
      "text/plain": [
       "9"
      ]
     },
     "execution_count": 14,
     "metadata": {},
     "output_type": "execute_result"
    }
   ],
   "source": [
    "a1 = np.array([[1,3,4,6,7], [2,5,7,9,8]])\n",
    "print(a1)\n",
    "#Get specific element using this syntax '[rowIndex, columnIndex]' Remember: 0-Indexing\n",
    "a1[1, 3]\n"
   ]
  },
  {
   "cell_type": "code",
   "execution_count": 22,
   "id": "da1a4822",
   "metadata": {},
   "outputs": [
    {
     "data": {
      "text/plain": [
       "array([3, 6])"
      ]
     },
     "execution_count": 22,
     "metadata": {},
     "output_type": "execute_result"
    }
   ],
   "source": [
    "#More fancy slicing it's just as list slicing normal in python\n",
    "a1[0, :] #get a whole row colon is not mandatory\n",
    "a1[:, 1] #get a whole column\n",
    "a1[0,1:4:2] #[startIndex:endIndex:stepSize] just within a row (or column?!)\n"
   ]
  },
  {
   "cell_type": "code",
   "execution_count": 23,
   "id": "65cfd8f9",
   "metadata": {},
   "outputs": [
    {
     "data": {
      "text/plain": [
       "array([[ 1,  3,  4,  6,  7],\n",
       "       [ 2,  5,  7, 10,  8]])"
      ]
     },
     "execution_count": 23,
     "metadata": {},
     "output_type": "execute_result"
    }
   ],
   "source": [
    "#change elements of the array\n",
    "a1[1,3] = 10 #changes the value from 9 to 10\n",
    "a1\n"
   ]
  },
  {
   "cell_type": "code",
   "execution_count": 28,
   "id": "ade18c3d",
   "metadata": {},
   "outputs": [
    {
     "data": {
      "text/plain": [
       "array([[ 1,  2,  3, 10, 10],\n",
       "       [ 2,  5,  7, 10,  8]])"
      ]
     },
     "execution_count": 28,
     "metadata": {},
     "output_type": "execute_result"
    }
   ],
   "source": [
    "#change sequence of numbers\n",
    "a1[0,:] = 1 #whole row\n",
    "a1\n",
    "#or just a few numbers\n",
    "a1[0,:] = [1, 2, 3, 10, 10] #assignes value has to have the SAME shape (in this case: 1 row, 5 columns)\n",
    "a1"
   ]
  },
  {
   "cell_type": "code",
   "execution_count": 40,
   "id": "03ba4789",
   "metadata": {},
   "outputs": [
    {
     "name": "stdout",
     "output_type": "stream",
     "text": [
      "m1:  [0. 0. 0. 0.]\n",
      "m2:  [[0. 0. 0. 0.]\n",
      " [0. 0. 0. 0.]\n",
      " [0. 0. 0. 0.]\n",
      " [0. 0. 0. 0.]]\n",
      "m3: [[[0. 0. 0. 0.]\n",
      "  [0. 0. 0. 0.]\n",
      "  [0. 0. 0. 0.]]\n",
      "\n",
      " [[0. 0. 0. 0.]\n",
      "  [0. 0. 0. 0.]\n",
      "  [0. 0. 0. 0.]]\n",
      "\n",
      " [[0. 0. 0. 0.]\n",
      "  [0. 0. 0. 0.]\n",
      "  [0. 0. 0. 0.]]]\n"
     ]
    }
   ],
   "source": [
    "#All zeros matrix\n",
    "m1 = np.zeros(4)\n",
    "print(\"m1: \", m1)\n",
    "m2 = np.zeros([4, 4])\n",
    "print(\"m2: \", m2)\n",
    "m3 = np.zeros((3,3,4)) # both is allowed () or []\n",
    "print(\"m3:\", m3)\n"
   ]
  },
  {
   "cell_type": "code",
   "execution_count": 45,
   "id": "21d7ce81",
   "metadata": {},
   "outputs": [
    {
     "data": {
      "text/plain": [
       "array([[[1., 1., 1., 1., 1.],\n",
       "        [1., 1., 1., 1., 1.],\n",
       "        [1., 1., 1., 1., 1.]],\n",
       "\n",
       "       [[1., 1., 1., 1., 1.],\n",
       "        [1., 1., 1., 1., 1.],\n",
       "        [1., 1., 1., 1., 1.]],\n",
       "\n",
       "       [[1., 1., 1., 1., 1.],\n",
       "        [1., 1., 1., 1., 1.],\n",
       "        [1., 1., 1., 1., 1.]]])"
      ]
     },
     "execution_count": 45,
     "metadata": {},
     "output_type": "execute_result"
    }
   ],
   "source": [
    "#All ones matrix\n",
    "np.ones((3, 3, 5)) #( numberOf,rows,columns)\n",
    "# also: np.ones((3,3,5), dtype=\"int32\")"
   ]
  },
  {
   "cell_type": "code",
   "execution_count": 46,
   "id": "787ec9fc",
   "metadata": {},
   "outputs": [
    {
     "data": {
      "text/plain": [
       "array([[99, 99],\n",
       "       [99, 99]])"
      ]
     },
     "execution_count": 46,
     "metadata": {},
     "output_type": "execute_result"
    }
   ],
   "source": [
    "#any other matrix\n",
    "np.full((2,2), 99) #((shapeOfMatrix), value that is to be assigned to the matrix)\n",
    "# there is also the full_like function to copy a shape of an already existing matrix"
   ]
  },
  {
   "cell_type": "code",
   "execution_count": 49,
   "id": "075903c4",
   "metadata": {},
   "outputs": [
    {
     "data": {
      "text/plain": [
       "array([[[0.91337269, 0.82017529, 0.62388868],\n",
       "        [0.8348346 , 0.14850498, 0.59521796]],\n",
       "\n",
       "       [[0.57367565, 0.38643867, 0.46544876],\n",
       "        [0.17459333, 0.10029606, 0.62401598]],\n",
       "\n",
       "       [[0.38811995, 0.64439129, 0.64571302],\n",
       "        [0.32269863, 0.57259997, 0.21569957]]])"
      ]
     },
     "execution_count": 49,
     "metadata": {},
     "output_type": "execute_result"
    }
   ],
   "source": [
    "#random decimal numbers\n",
    "np.random.rand(3,2,3) #as before parameters are as following: (numberOfMAtrices, rows, columns)"
   ]
  },
  {
   "cell_type": "code",
   "execution_count": 50,
   "id": "a0234729",
   "metadata": {},
   "outputs": [
    {
     "data": {
      "text/plain": [
       "array([[6, 6, 0],\n",
       "       [2, 6, 3],\n",
       "       [1, 1, 0]])"
      ]
     },
     "execution_count": 50,
     "metadata": {},
     "output_type": "execute_result"
    }
   ],
   "source": [
    "np.random.randint(7, size = (3,3)) # random integers [the 7 is -> up to 7 but not including 7]"
   ]
  },
  {
   "cell_type": "code",
   "execution_count": 51,
   "id": "8a486406",
   "metadata": {},
   "outputs": [
    {
     "data": {
      "text/plain": [
       "array([[1., 0., 0., 0.],\n",
       "       [0., 1., 0., 0.],\n",
       "       [0., 0., 1., 0.],\n",
       "       [0., 0., 0., 1.]])"
      ]
     },
     "execution_count": 51,
     "metadata": {},
     "output_type": "execute_result"
    }
   ],
   "source": [
    "#identity matrix\n",
    "np.identity(4)"
   ]
  },
  {
   "cell_type": "markdown",
   "id": "042ce76e",
   "metadata": {},
   "source": [
    "BE careful with copying !!!!\n"
   ]
  },
  {
   "cell_type": "code",
   "execution_count": 52,
   "id": "71da8b1e",
   "metadata": {},
   "outputs": [
    {
     "data": {
      "text/plain": [
       "array([ 99, 107,  98,  11])"
      ]
     },
     "execution_count": 52,
     "metadata": {},
     "output_type": "execute_result"
    }
   ],
   "source": [
    "a = np.array([99, 107, 98, 11])\n",
    "a"
   ]
  },
  {
   "cell_type": "code",
   "execution_count": 53,
   "id": "a1b871dc",
   "metadata": {},
   "outputs": [
    {
     "data": {
      "text/plain": [
       "array([ 99, 107,  98,  11])"
      ]
     },
     "execution_count": 53,
     "metadata": {},
     "output_type": "execute_result"
    }
   ],
   "source": [
    "b = a\n",
    "b"
   ]
  },
  {
   "cell_type": "code",
   "execution_count": 55,
   "id": "4bf18830",
   "metadata": {},
   "outputs": [
    {
     "name": "stdout",
     "output_type": "stream",
     "text": [
      "[  1 107  98  11]\n",
      "[  1 107  98  11]\n"
     ]
    }
   ],
   "source": [
    "# you see that b is the same as a. in fact they point to the same object (have the same reference)\n",
    "b[0] = 1\n",
    "print(b)\n",
    "print(a)"
   ]
  },
  {
   "cell_type": "markdown",
   "id": "10afa01c",
   "metadata": {},
   "source": [
    "Now you see that although we \"just\" changed something in b, it has also changed a !!!!!!"
   ]
  },
  {
   "cell_type": "code",
   "execution_count": 59,
   "id": "fba69623",
   "metadata": {},
   "outputs": [
    {
     "name": "stdout",
     "output_type": "stream",
     "text": [
      "[ 99 107  98  11]\n",
      "[ 99 107  98  11]\n"
     ]
    }
   ],
   "source": [
    "# with copy function you can avoid that though\n",
    "a = np.array([99, 107, 98, 11])\n",
    "print(a)\n",
    "c = a.copy()\n",
    "print(c)"
   ]
  },
  {
   "cell_type": "code",
   "execution_count": 60,
   "id": "f24c02cc",
   "metadata": {},
   "outputs": [
    {
     "name": "stdout",
     "output_type": "stream",
     "text": [
      "[  1 107  98  11]\n",
      "[ 99 107  98  11]\n"
     ]
    }
   ],
   "source": [
    "c[0] = 1\n",
    "print(c)\n",
    "print(a) # THIS time it hasn't been changed"
   ]
  },
  {
   "cell_type": "code",
   "execution_count": null,
   "id": "d25df7ae",
   "metadata": {},
   "outputs": [],
   "source": []
  }
 ],
 "metadata": {
  "kernelspec": {
   "display_name": "Python 3 (ipykernel)",
   "language": "python",
   "name": "python3"
  },
  "language_info": {
   "codemirror_mode": {
    "name": "ipython",
    "version": 3
   },
   "file_extension": ".py",
   "mimetype": "text/x-python",
   "name": "python",
   "nbconvert_exporter": "python",
   "pygments_lexer": "ipython3",
   "version": "3.10.1"
  }
 },
 "nbformat": 4,
 "nbformat_minor": 5
}
